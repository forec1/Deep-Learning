{
  "nbformat": 4,
  "nbformat_minor": 0,
  "metadata": {
    "colab": {
      "name": "sem_seg_train.ipynb",
      "provenance": [],
      "collapsed_sections": [],
      "toc_visible": true
    },
    "kernelspec": {
      "name": "python3",
      "display_name": "Python 3"
    },
    "accelerator": "GPU",
    "widgets": {
      "application/vnd.jupyter.widget-state+json": {
        "3a2efc2a29fb425abccb7c587cdbe82d": {
          "model_module": "@jupyter-widgets/controls",
          "model_name": "HBoxModel",
          "state": {
            "_view_name": "HBoxView",
            "_dom_classes": [],
            "_model_name": "HBoxModel",
            "_view_module": "@jupyter-widgets/controls",
            "_model_module_version": "1.5.0",
            "_view_count": null,
            "_view_module_version": "1.5.0",
            "box_style": "",
            "layout": "IPY_MODEL_521a86a37bb04306a7f9a35e57104803",
            "_model_module": "@jupyter-widgets/controls",
            "children": [
              "IPY_MODEL_b2dece2734d848f492e1974f09b7105e",
              "IPY_MODEL_edf7ec1e73064fc680177d8b207985a2"
            ]
          }
        },
        "521a86a37bb04306a7f9a35e57104803": {
          "model_module": "@jupyter-widgets/base",
          "model_name": "LayoutModel",
          "state": {
            "_view_name": "LayoutView",
            "grid_template_rows": null,
            "right": null,
            "justify_content": null,
            "_view_module": "@jupyter-widgets/base",
            "overflow": null,
            "_model_module_version": "1.2.0",
            "_view_count": null,
            "flex_flow": null,
            "width": null,
            "min_width": null,
            "border": null,
            "align_items": null,
            "bottom": null,
            "_model_module": "@jupyter-widgets/base",
            "top": null,
            "grid_column": null,
            "overflow_y": null,
            "overflow_x": null,
            "grid_auto_flow": null,
            "grid_area": null,
            "grid_template_columns": null,
            "flex": null,
            "_model_name": "LayoutModel",
            "justify_items": null,
            "grid_row": null,
            "max_height": null,
            "align_content": null,
            "visibility": null,
            "align_self": null,
            "height": null,
            "min_height": null,
            "padding": null,
            "grid_auto_rows": null,
            "grid_gap": null,
            "max_width": null,
            "order": null,
            "_view_module_version": "1.2.0",
            "grid_template_areas": null,
            "object_position": null,
            "object_fit": null,
            "grid_auto_columns": null,
            "margin": null,
            "display": null,
            "left": null
          }
        },
        "b2dece2734d848f492e1974f09b7105e": {
          "model_module": "@jupyter-widgets/controls",
          "model_name": "FloatProgressModel",
          "state": {
            "_view_name": "ProgressView",
            "style": "IPY_MODEL_928f00ba18614d67a18dd2ae61a0f976",
            "_dom_classes": [],
            "description": "100%",
            "_model_name": "FloatProgressModel",
            "bar_style": "success",
            "max": 102502400,
            "_view_module": "@jupyter-widgets/controls",
            "_model_module_version": "1.5.0",
            "value": 102502400,
            "_view_count": null,
            "_view_module_version": "1.5.0",
            "orientation": "horizontal",
            "min": 0,
            "description_tooltip": null,
            "_model_module": "@jupyter-widgets/controls",
            "layout": "IPY_MODEL_da0d4563550a4f5c87525c95724fc983"
          }
        },
        "edf7ec1e73064fc680177d8b207985a2": {
          "model_module": "@jupyter-widgets/controls",
          "model_name": "HTMLModel",
          "state": {
            "_view_name": "HTMLView",
            "style": "IPY_MODEL_794f2f0c6d294894b059dd0455159695",
            "_dom_classes": [],
            "description": "",
            "_model_name": "HTMLModel",
            "placeholder": "​",
            "_view_module": "@jupyter-widgets/controls",
            "_model_module_version": "1.5.0",
            "value": " 97.8M/97.8M [00:21&lt;00:00, 4.66MB/s]",
            "_view_count": null,
            "_view_module_version": "1.5.0",
            "description_tooltip": null,
            "_model_module": "@jupyter-widgets/controls",
            "layout": "IPY_MODEL_f2a65e0ad8d0411b9e2d6c0352ab076c"
          }
        },
        "928f00ba18614d67a18dd2ae61a0f976": {
          "model_module": "@jupyter-widgets/controls",
          "model_name": "ProgressStyleModel",
          "state": {
            "_view_name": "StyleView",
            "_model_name": "ProgressStyleModel",
            "description_width": "initial",
            "_view_module": "@jupyter-widgets/base",
            "_model_module_version": "1.5.0",
            "_view_count": null,
            "_view_module_version": "1.2.0",
            "bar_color": null,
            "_model_module": "@jupyter-widgets/controls"
          }
        },
        "da0d4563550a4f5c87525c95724fc983": {
          "model_module": "@jupyter-widgets/base",
          "model_name": "LayoutModel",
          "state": {
            "_view_name": "LayoutView",
            "grid_template_rows": null,
            "right": null,
            "justify_content": null,
            "_view_module": "@jupyter-widgets/base",
            "overflow": null,
            "_model_module_version": "1.2.0",
            "_view_count": null,
            "flex_flow": null,
            "width": null,
            "min_width": null,
            "border": null,
            "align_items": null,
            "bottom": null,
            "_model_module": "@jupyter-widgets/base",
            "top": null,
            "grid_column": null,
            "overflow_y": null,
            "overflow_x": null,
            "grid_auto_flow": null,
            "grid_area": null,
            "grid_template_columns": null,
            "flex": null,
            "_model_name": "LayoutModel",
            "justify_items": null,
            "grid_row": null,
            "max_height": null,
            "align_content": null,
            "visibility": null,
            "align_self": null,
            "height": null,
            "min_height": null,
            "padding": null,
            "grid_auto_rows": null,
            "grid_gap": null,
            "max_width": null,
            "order": null,
            "_view_module_version": "1.2.0",
            "grid_template_areas": null,
            "object_position": null,
            "object_fit": null,
            "grid_auto_columns": null,
            "margin": null,
            "display": null,
            "left": null
          }
        },
        "794f2f0c6d294894b059dd0455159695": {
          "model_module": "@jupyter-widgets/controls",
          "model_name": "DescriptionStyleModel",
          "state": {
            "_view_name": "StyleView",
            "_model_name": "DescriptionStyleModel",
            "description_width": "",
            "_view_module": "@jupyter-widgets/base",
            "_model_module_version": "1.5.0",
            "_view_count": null,
            "_view_module_version": "1.2.0",
            "_model_module": "@jupyter-widgets/controls"
          }
        },
        "f2a65e0ad8d0411b9e2d6c0352ab076c": {
          "model_module": "@jupyter-widgets/base",
          "model_name": "LayoutModel",
          "state": {
            "_view_name": "LayoutView",
            "grid_template_rows": null,
            "right": null,
            "justify_content": null,
            "_view_module": "@jupyter-widgets/base",
            "overflow": null,
            "_model_module_version": "1.2.0",
            "_view_count": null,
            "flex_flow": null,
            "width": null,
            "min_width": null,
            "border": null,
            "align_items": null,
            "bottom": null,
            "_model_module": "@jupyter-widgets/base",
            "top": null,
            "grid_column": null,
            "overflow_y": null,
            "overflow_x": null,
            "grid_auto_flow": null,
            "grid_area": null,
            "grid_template_columns": null,
            "flex": null,
            "_model_name": "LayoutModel",
            "justify_items": null,
            "grid_row": null,
            "max_height": null,
            "align_content": null,
            "visibility": null,
            "align_self": null,
            "height": null,
            "min_height": null,
            "padding": null,
            "grid_auto_rows": null,
            "grid_gap": null,
            "max_width": null,
            "order": null,
            "_view_module_version": "1.2.0",
            "grid_template_areas": null,
            "object_position": null,
            "object_fit": null,
            "grid_auto_columns": null,
            "margin": null,
            "display": null,
            "left": null
          }
        }
      }
    }
  },
  "cells": [
    {
      "cell_type": "code",
      "metadata": {
        "id": "1yIQdTP9v_WT",
        "colab_type": "code",
        "outputId": "89e94fea-f557-4fcf-c804-d44beb6d10ba",
        "colab": {
          "base_uri": "https://localhost:8080/",
          "height": 34
        }
      },
      "source": [
        "from google.colab import drive \n",
        "drive.mount('/content/drive')"
      ],
      "execution_count": 0,
      "outputs": [
        {
          "output_type": "stream",
          "text": [
            "Drive already mounted at /content/drive; to attempt to forcibly remount, call drive.mount(\"/content/drive\", force_remount=True).\n"
          ],
          "name": "stdout"
        }
      ]
    },
    {
      "cell_type": "code",
      "metadata": {
        "id": "RuMe3TXRxxPE",
        "colab_type": "code",
        "outputId": "a55100d7-a43c-4f8c-e5fe-6144452c6973",
        "colab": {
          "base_uri": "https://localhost:8080/",
          "height": 85
        }
      },
      "source": [
        "!pwd\n",
        "%cd drive/My\\ Drive/deep_learning\n",
        "!pwd"
      ],
      "execution_count": 0,
      "outputs": [
        {
          "output_type": "stream",
          "text": [
            "/content/drive/My Drive/deep_learning\n",
            "[Errno 2] No such file or directory: 'drive/My Drive/deep_learning'\n",
            "/content/drive/My Drive/deep_learning\n",
            "/content/drive/My Drive/deep_learning\n"
          ],
          "name": "stdout"
        }
      ]
    },
    {
      "cell_type": "code",
      "metadata": {
        "id": "oCUibHBfDFLs",
        "colab_type": "code",
        "outputId": "de106394-c38c-4da0-8eed-54b2bcde9a25",
        "colab": {
          "base_uri": "https://localhost:8080/",
          "height": 34
        }
      },
      "source": [
        "!python3 src/data/make_dataset.py data/raw data/processed"
      ],
      "execution_count": 0,
      "outputs": [
        {
          "output_type": "stream",
          "text": [
            "2020-05-17 11:30:44,709 - __main__ - INFO - making final data set from raw data\n"
          ],
          "name": "stdout"
        }
      ]
    },
    {
      "cell_type": "code",
      "metadata": {
        "id": "QYADh6g28bi9",
        "colab_type": "code",
        "colab": {}
      },
      "source": [
        "!cp data/raw/horizons.txt data/processed/"
      ],
      "execution_count": 0,
      "outputs": []
    },
    {
      "cell_type": "code",
      "metadata": {
        "id": "fZq2MtMfBEhS",
        "colab_type": "code",
        "outputId": "0a3fca0d-d714-4d9b-9d6c-ff85c63597b1",
        "colab": {
          "base_uri": "https://localhost:8080/",
          "height": 884
        }
      },
      "source": [
        "import src.models.train_model as train_model\n",
        "import src.data.transforms as t\n",
        "import src.models.resnet as resnet\n",
        "\n",
        "transform = t.ToTensor()\n",
        "\n",
        "net = resnet.resnet50_2d_semseg(num_classes=9)\n",
        "\n",
        "train_model.train(net, \"src/models/train_parameters.yaml\", transform=transform)"
      ],
      "execution_count": 0,
      "outputs": [
        {
          "output_type": "stream",
          "text": [
            "Epoch: 0 | Average loss in this epoch: 1.352794695\n",
            "Epoch: 1 | Average loss in this epoch: 1.027403640\n",
            "Epoch: 2 | Average loss in this epoch: 0.887913676\n",
            "Epoch: 3 | Average loss in this epoch: 0.800160387\n",
            "Epoch: 4 | Average loss in this epoch: 0.709972933\n",
            "Epoch: 5 | Average loss in this epoch: 0.675404038\n",
            "Epoch: 6 | Average loss in this epoch: 0.646454724\n",
            "Epoch: 7 | Average loss in this epoch: 0.577497846\n",
            "Epoch: 8 | Average loss in this epoch: 0.530773415\n",
            "Epoch: 9 | Average loss in this epoch: 0.511974775\n",
            "Epoch: 10 | Average loss in this epoch: 0.488758414\n",
            "Epoch: 11 | Average loss in this epoch: 0.487774194\n",
            "Epoch: 12 | Average loss in this epoch: 0.411642438\n",
            "Epoch: 13 | Average loss in this epoch: 0.396221801\n",
            "Epoch: 14 | Average loss in this epoch: 0.361611036\n",
            "Epoch: 15 | Average loss in this epoch: 0.402327565\n",
            "Epoch: 16 | Average loss in this epoch: 0.354899229\n",
            "Epoch: 17 | Average loss in this epoch: 0.312883879\n",
            "Epoch: 18 | Average loss in this epoch: 0.342480948\n",
            "Epoch: 19 | Average loss in this epoch: 0.278161538\n",
            "Epoch: 20 | Average loss in this epoch: 0.271726941\n",
            "Epoch: 21 | Average loss in this epoch: 0.357908425\n",
            "Epoch: 22 | Average loss in this epoch: 0.318453048\n",
            "Epoch: 23 | Average loss in this epoch: 0.244433912\n",
            "Epoch: 24 | Average loss in this epoch: 0.236988874\n",
            "Epoch: 25 | Average loss in this epoch: 0.213902755\n",
            "Epoch: 26 | Average loss in this epoch: 0.200862807\n",
            "Epoch: 27 | Average loss in this epoch: 0.194700629\n",
            "Epoch: 28 | Average loss in this epoch: 0.190649630\n",
            "Epoch: 29 | Average loss in this epoch: 0.187109631\n",
            "Epoch: 30 | Average loss in this epoch: 0.183947286\n",
            "Epoch: 31 | Average loss in this epoch: 0.180644712\n",
            "Epoch: 32 | Average loss in this epoch: 0.177952898\n",
            "Epoch: 33 | Average loss in this epoch: 0.175122954\n",
            "Epoch: 34 | Average loss in this epoch: 0.172149114\n",
            "Epoch: 35 | Average loss in this epoch: 0.169749147\n",
            "Epoch: 36 | Average loss in this epoch: 0.167575673\n",
            "Epoch: 37 | Average loss in this epoch: 0.165263877\n",
            "Epoch: 38 | Average loss in this epoch: 0.162826142\n",
            "Epoch: 39 | Average loss in this epoch: 0.161489397\n",
            "Epoch: 40 | Average loss in this epoch: 0.159669045\n",
            "Epoch: 41 | Average loss in this epoch: 0.157376496\n",
            "Epoch: 42 | Average loss in this epoch: 0.158075800\n",
            "Epoch: 43 | Average loss in this epoch: 0.154831168\n",
            "Epoch: 44 | Average loss in this epoch: 0.152688850\n",
            "Epoch: 45 | Average loss in this epoch: 0.151460715\n",
            "Epoch: 46 | Average loss in this epoch: 0.150125836\n",
            "Epoch: 47 | Average loss in this epoch: 0.149068715\n",
            "Epoch: 48 | Average loss in this epoch: 0.147655690\n",
            "Epoch: 49 | Average loss in this epoch: 0.146735079\n",
            "Finished training.\n"
          ],
          "name": "stdout"
        }
      ]
    },
    {
      "cell_type": "code",
      "metadata": {
        "id": "X-2RuguRvsJc",
        "colab_type": "code",
        "outputId": "bafa8fec-819d-4864-a552-8693de0fa81c",
        "colab": {
          "base_uri": "https://localhost:8080/",
          "height": 51
        }
      },
      "source": [
        "import src.models.predict_model as pm\n",
        "import src.models.resnet as resnet\n",
        "import torch\n",
        "\n",
        "net = resnet.resnet50_2d_semseg(num_classes=9)\n",
        "net.load_state_dict(torch.load('models/treci/resnet50_semseg_noub.pt'))\n",
        "\n",
        "acc = pm.accuracy(net, mode='val')\n",
        "print('Accuracy on val = %f' % acc)\n",
        "\n",
        "acc = pm.accuracy(net, mode='test')\n",
        "print('Accuracy on test = %f' % acc)\n"
      ],
      "execution_count": 0,
      "outputs": [
        {
          "output_type": "stream",
          "text": [
            "Accuracy on val = 0.755852\n",
            "Accuracy on test = 0.747067\n"
          ],
          "name": "stdout"
        }
      ]
    },
    {
      "cell_type": "code",
      "metadata": {
        "id": "rAunZBAh3LDM",
        "colab_type": "code",
        "outputId": "9a691bae-b091-408f-d84d-3ff126fe0ea8",
        "colab": {
          "base_uri": "https://localhost:8080/",
          "height": 950,
          "referenced_widgets": [
            "3a2efc2a29fb425abccb7c587cdbe82d",
            "521a86a37bb04306a7f9a35e57104803",
            "b2dece2734d848f492e1974f09b7105e",
            "edf7ec1e73064fc680177d8b207985a2",
            "928f00ba18614d67a18dd2ae61a0f976",
            "da0d4563550a4f5c87525c95724fc983",
            "794f2f0c6d294894b059dd0455159695",
            "f2a65e0ad8d0411b9e2d6c0352ab076c"
          ]
        }
      },
      "source": [
        "import src.models.mynn as mynn\n",
        "import src.models.train_model as train_model\n",
        "import src.data.transforms as t\n",
        "\n",
        "net = mynn.create_mynet(pretrained=True, num_classes=9)\n",
        "\n",
        "transform = t.ToTensor()\n",
        "train_model.train(net, \"src/models/train_parameters.yaml\", transform=transform)"
      ],
      "execution_count": 0,
      "outputs": [
        {
          "output_type": "stream",
          "text": [
            "Downloading: \"https://download.pytorch.org/models/resnet50-19c8e357.pth\" to /root/.cache/torch/checkpoints/resnet50-19c8e357.pth\n"
          ],
          "name": "stderr"
        },
        {
          "output_type": "display_data",
          "data": {
            "application/vnd.jupyter.widget-view+json": {
              "model_id": "3a2efc2a29fb425abccb7c587cdbe82d",
              "version_minor": 0,
              "version_major": 2
            },
            "text/plain": [
              "HBox(children=(FloatProgress(value=0.0, max=102502400.0), HTML(value='')))"
            ]
          },
          "metadata": {
            "tags": []
          }
        },
        {
          "output_type": "stream",
          "text": [
            "\n",
            "Epoch: 0 | Average loss in this epoch: 1.721534487\n",
            "Epoch: 1 | Average loss in this epoch: 1.260684653\n",
            "Epoch: 2 | Average loss in this epoch: 0.984498673\n",
            "Epoch: 3 | Average loss in this epoch: 0.871844176\n",
            "Epoch: 4 | Average loss in this epoch: 0.807959050\n",
            "Epoch: 5 | Average loss in this epoch: 0.713149022\n",
            "Epoch: 6 | Average loss in this epoch: 0.668658936\n",
            "Epoch: 7 | Average loss in this epoch: 0.629051390\n",
            "Epoch: 8 | Average loss in this epoch: 0.573603529\n",
            "Epoch: 9 | Average loss in this epoch: 0.561878292\n",
            "Epoch: 10 | Average loss in this epoch: 0.504522668\n",
            "Epoch: 11 | Average loss in this epoch: 0.464089127\n",
            "Epoch: 12 | Average loss in this epoch: 0.452020750\n",
            "Epoch: 13 | Average loss in this epoch: 0.415393325\n",
            "Epoch: 14 | Average loss in this epoch: 0.522159185\n",
            "Epoch: 15 | Average loss in this epoch: 0.377211360\n",
            "Epoch: 16 | Average loss in this epoch: 0.331578476\n",
            "Epoch: 17 | Average loss in this epoch: 0.316310431\n",
            "Epoch: 18 | Average loss in this epoch: 0.395935101\n",
            "Epoch: 19 | Average loss in this epoch: 0.318835931\n",
            "Epoch: 20 | Average loss in this epoch: 0.308819809\n",
            "Epoch: 21 | Average loss in this epoch: 0.255992447\n",
            "Epoch: 22 | Average loss in this epoch: 0.231732790\n",
            "Epoch: 23 | Average loss in this epoch: 0.225616642\n",
            "Epoch: 24 | Average loss in this epoch: 0.209062082\n",
            "Epoch: 25 | Average loss in this epoch: 0.174688513\n",
            "Epoch: 26 | Average loss in this epoch: 0.162468374\n",
            "Epoch: 27 | Average loss in this epoch: 0.155261645\n",
            "Epoch: 28 | Average loss in this epoch: 0.150313071\n",
            "Epoch: 29 | Average loss in this epoch: 0.145742638\n",
            "Epoch: 30 | Average loss in this epoch: 0.142547662\n",
            "Epoch: 31 | Average loss in this epoch: 0.138085194\n",
            "Epoch: 32 | Average loss in this epoch: 0.134686763\n",
            "Epoch: 33 | Average loss in this epoch: 0.131609115\n",
            "Epoch: 34 | Average loss in this epoch: 0.128394892\n",
            "Epoch: 35 | Average loss in this epoch: 0.125784755\n",
            "Epoch: 36 | Average loss in this epoch: 0.122523978\n",
            "Epoch: 37 | Average loss in this epoch: 0.120225330\n",
            "Epoch: 38 | Average loss in this epoch: 0.117525634\n",
            "Epoch: 39 | Average loss in this epoch: 0.115602223\n",
            "Epoch: 40 | Average loss in this epoch: 0.113303897\n",
            "Epoch: 41 | Average loss in this epoch: 0.110179432\n",
            "Epoch: 42 | Average loss in this epoch: 0.108088065\n",
            "Epoch: 43 | Average loss in this epoch: 0.105684111\n",
            "Epoch: 44 | Average loss in this epoch: 0.103693677\n",
            "Epoch: 45 | Average loss in this epoch: 0.101863098\n",
            "Epoch: 46 | Average loss in this epoch: 0.099719073\n",
            "Epoch: 47 | Average loss in this epoch: 0.098277334\n",
            "Epoch: 48 | Average loss in this epoch: 0.097337758\n",
            "Epoch: 49 | Average loss in this epoch: 0.095261911\n",
            "Finished training.\n"
          ],
          "name": "stdout"
        }
      ]
    },
    {
      "cell_type": "code",
      "metadata": {
        "id": "iEavKcP7AKaW",
        "colab_type": "code",
        "outputId": "3c6af254-db7c-43ae-dbf8-5b9b7fe28b62",
        "colab": {
          "base_uri": "https://localhost:8080/",
          "height": 51
        }
      },
      "source": [
        "import src.models.predict_model as pm\n",
        "import src.models.mynn as mynn\n",
        "import torch\n",
        "\n",
        "net = mynn.create_mynet(pretrained=False, num_classes=9)\n",
        "net.load_state_dict(torch.load('models/resnet50_semseg_ub.pt'))\n",
        "\n",
        "acc = pm.accuracy(net, mode='val')\n",
        "print('Accuracy on val = %f' % acc)\n",
        "\n",
        "acc = pm.accuracy(net, mode='test')\n",
        "print('Accuracy on test = %f' % acc)"
      ],
      "execution_count": 0,
      "outputs": [
        {
          "output_type": "stream",
          "text": [
            "Accuracy on val = 0.771224\n",
            "Accuracy on test = 0.750019\n"
          ],
          "name": "stdout"
        }
      ]
    }
  ]
}
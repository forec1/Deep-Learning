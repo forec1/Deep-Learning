{
  "nbformat": 4,
  "nbformat_minor": 0,
  "metadata": {
    "colab": {
      "name": "error.ipynb",
      "version": "0.3.2",
      "provenance": [],
      "collapsed_sections": []
    },
    "kernelspec": {
      "name": "python3",
      "display_name": "Python 3"
    },
    "accelerator": "GPU"
  },
  "cells": [
    {
      "cell_type": "code",
      "metadata": {
        "id": "JbpWbFhlyxBN",
        "colab_type": "code",
        "outputId": "0c46219b-79db-48fd-b4ae-4dd3551bef78",
        "colab": {
          "base_uri": "https://localhost:8080/",
          "height": 127
        }
      },
      "source": [
        "from google.colab import drive\n",
        "drive.mount('/content/drive')"
      ],
      "execution_count": 0,
      "outputs": [
        {
          "output_type": "stream",
          "text": [
            "Go to this URL in a browser: https://accounts.google.com/o/oauth2/auth?client_id=947318989803-6bn6qk8qdgf4n4g3pfee6491hc0brc4i.apps.googleusercontent.com&redirect_uri=urn%3Aietf%3Awg%3Aoauth%3A2.0%3Aoob&scope=email%20https%3A%2F%2Fwww.googleapis.com%2Fauth%2Fdocs.test%20https%3A%2F%2Fwww.googleapis.com%2Fauth%2Fdrive%20https%3A%2F%2Fwww.googleapis.com%2Fauth%2Fdrive.photos.readonly%20https%3A%2F%2Fwww.googleapis.com%2Fauth%2Fpeopleapi.readonly&response_type=code\n",
            "\n",
            "Enter your authorization code:\n",
            "··········\n",
            "Mounted at /content/drive\n"
          ],
          "name": "stdout"
        }
      ]
    },
    {
      "cell_type": "code",
      "metadata": {
        "id": "OrZdBzUiUvex",
        "colab_type": "code",
        "colab": {}
      },
      "source": [
        "def relative_error(pred, truth, reduce):\n",
        "    mask = (truth > 0.1).float()\n",
        "    abs_diff = torch.abs(pred-truth)*mask\n",
        "    rel = reduce(abs_diff/truth)\n",
        "    return rel\n",
        "\n",
        "def n_rel(pred, truth, percent):\n",
        "    rel = relative_error(pred, truth, lambda x: x)\n",
        "    n = torch.sum(rel < percent)\n",
        "    return n"
      ],
      "execution_count": 0,
      "outputs": []
    },
    {
      "cell_type": "code",
      "metadata": {
        "id": "atJvznfDLOMy",
        "colab_type": "code",
        "colab": {}
      },
      "source": [
        "import nyudepth as nyu\n",
        "import torch.utils.data as data\n",
        "import nyutransforms as T\n",
        "import mynn\n",
        "import torch.nn.functional as F\n",
        "import torch\n",
        "\n",
        "def print_err(net):\n",
        "    transforms = T.Compose([T.ToTensor()])\n",
        "    dataset = nyu.NYUDepthV2Dataset('/content/drive/My Drive/zavrsni/data/nyudata', transform=transforms)\n",
        "    dataloader = data.DataLoader(dataset, batch_size=16, shuffle=False)\n",
        "\n",
        "    device = torch.device(\"cuda:0\" if torch.cuda.is_available() else \"cpu\")\n",
        "    net.to(device)\n",
        "    net.eval()\n",
        "\n",
        "    n_val_pixels = 0\n",
        "    n_pixels = 0\n",
        "    rel = 0\n",
        "    n = 0\n",
        "\n",
        "    for i, sample in enumerate(dataloader):\n",
        "        inputs, depths = sample['image'], sample['depth']\n",
        "        inputs, depths = inputs.to(device), depths.to(device)\n",
        "        n_val_pixels += torch.sum(depths > 0.1).item()\n",
        "        outputs = net(inputs)\n",
        "        outputs = F.interpolate(outputs, size=(480, 640), mode='bilinear', align_corners=False)\n",
        "        rel += relative_error(outputs, depths, torch.sum).item()\n",
        "        n += n_rel(outputs, depths, 0.25).item()\n",
        "\n",
        "    print('    Prosječna relativna pogreška:', rel/n_val_pixels)\n",
        "    print('    Postotak piksela u kojima je relativna pogreška dubine manja od 25%:', float(n)/float(n_val_pixels))"
      ],
      "execution_count": 0,
      "outputs": []
    },
    {
      "cell_type": "code",
      "metadata": {
        "id": "5Ltofd2Ad5mI",
        "colab_type": "code",
        "colab": {
          "base_uri": "https://localhost:8080/",
          "height": 71
        },
        "outputId": "bdf512d3-dbf0-411c-9185-fe27cb24e974"
      },
      "source": [
        "import torch\n",
        "import mynn\n",
        "\n",
        "net = mynn.create_mynet()\n",
        "net.load_state_dict(torch.load('/content/drive/My Drive/zavrsni/nyu_netSGD3.pt'))\n",
        "print('Točnost na trainu za berHu loss:')\n",
        "print_err(net)\n",
        "\n",
        "\n"
      ],
      "execution_count": 3,
      "outputs": [
        {
          "output_type": "stream",
          "text": [
            "Točnost na trainu za berHu loss:\n",
            "    Prosječna relativna pogreška: 0.4399972776260586\n",
            "    Postotak piksela u kojima je relativna pogreška dubine manja od 25%: 0.8602220243091425\n"
          ],
          "name": "stdout"
        }
      ]
    },
    {
      "cell_type": "code",
      "metadata": {
        "id": "F6E7xqntmKKs",
        "colab_type": "code",
        "colab": {
          "base_uri": "https://localhost:8080/",
          "height": 71
        },
        "outputId": "6ada3c28-7927-4bad-b347-b704d1d86b10"
      },
      "source": [
        "import torch\n",
        "import mynn\n",
        "\n",
        "net = mynn.create_mynet()\n",
        "net.load_state_dict(torch.load('/content/drive/My Drive/zavrsni/nyu_netL2.pt'))\n",
        "print('Točnost na trainu za L2 loss:')\n",
        "print_err(net)"
      ],
      "execution_count": 4,
      "outputs": [
        {
          "output_type": "stream",
          "text": [
            "Točnost na trainu za L2 loss:\n",
            "    Prosječna relativna pogreška: 0.6413704380398045\n",
            "    Postotak piksela u kojima je relativna pogreška dubine manja od 25%: 0.7796321532080436\n"
          ],
          "name": "stdout"
        }
      ]
    }
  ]
}